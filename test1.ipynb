{
 "cells": [
  {
   "cell_type": "code",
   "execution_count": 1,
   "id": "84892b4b",
   "metadata": {
    "_cell_guid": "c4d83008-a76f-48c1-8e90-6ceb7588debe",
    "_uuid": "0ec94d55-3669-4bbe-b6aa-23369baf6a76",
    "collapsed": false,
    "execution": {
     "iopub.execute_input": "2023-01-09T22:00:15.937694Z",
     "iopub.status.busy": "2023-01-09T22:00:15.937297Z",
     "iopub.status.idle": "2023-01-09T22:00:17.073772Z",
     "shell.execute_reply": "2023-01-09T22:00:17.072546Z"
    },
    "jupyter": {
     "outputs_hidden": false
    },
    "papermill": {
     "duration": 1.146068,
     "end_time": "2023-01-09T22:00:17.077269",
     "exception": false,
     "start_time": "2023-01-09T22:00:15.931201",
     "status": "completed"
    },
    "tags": []
   },
   "outputs": [],
   "source": [
    "import numpy as np # linear algebra\n",
    "import pandas as pd # data processing, CSV file I/O (e.g. pd.read_csv)\n",
    "import random\n",
    "\n",
    "import os\n",
    "import cv2\n",
    "import glob\n",
    "import shutil\n",
    "from tqdm import tqdm\n",
    "from sklearn.model_selection import train_test_split"
   ]
  },
  {
   "cell_type": "code",
   "execution_count": 2,
   "id": "f02f1b5e",
   "metadata": {
    "execution": {
     "iopub.execute_input": "2023-01-09T22:00:17.090492Z",
     "iopub.status.busy": "2023-01-09T22:00:17.090049Z",
     "iopub.status.idle": "2023-01-09T22:00:17.095443Z",
     "shell.execute_reply": "2023-01-09T22:00:17.094371Z"
    },
    "papermill": {
     "duration": 0.014893,
     "end_time": "2023-01-09T22:00:17.098402",
     "exception": false,
     "start_time": "2023-01-09T22:00:17.083509",
     "status": "completed"
    },
    "tags": []
   },
   "outputs": [],
   "source": [
    "random.seed(0)\n",
    "np.random.seed(0)"
   ]
  },
  {
   "cell_type": "code",
   "execution_count": 3,
   "id": "d5ba1faf",
   "metadata": {
    "_cell_guid": "e26c520c-dc95-4a06-9076-4d1709e43c95",
    "_uuid": "c7f37ebd-b705-4890-b35b-c4a2285d779c",
    "collapsed": false,
    "execution": {
     "iopub.execute_input": "2023-01-09T22:00:17.110512Z",
     "iopub.status.busy": "2023-01-09T22:00:17.110089Z",
     "iopub.status.idle": "2023-01-09T22:00:17.119142Z",
     "shell.execute_reply": "2023-01-09T22:00:17.118051Z"
    },
    "jupyter": {
     "outputs_hidden": false
    },
    "papermill": {
     "duration": 0.017849,
     "end_time": "2023-01-09T22:00:17.121700",
     "exception": false,
     "start_time": "2023-01-09T22:00:17.103851",
     "status": "completed"
    },
    "tags": []
   },
   "outputs": [],
   "source": [
    "os.makedirs(\"/kaggle/temp/train\", exist_ok=True)\n",
    "os.makedirs(\"/kaggle/temp/val\", exist_ok=True)\n",
    "os.makedirs(\"/kaggle/temp/test\", exist_ok=True)\n",
    "\n",
    "for i in [\"train\", \"val\", \"test\"]:\n",
    "    for j in [\"images\", \"labels\"]:\n",
    "        os.makedirs(\"/kaggle/temp/\" + i +\"/\"+j, exist_ok=True)"
   ]
  },
  {
   "cell_type": "code",
   "execution_count": 4,
   "id": "ce764f40",
   "metadata": {
    "_cell_guid": "80234690-538a-47d7-b9ce-2a6ac8d061d4",
    "_uuid": "a79bd33f-1252-4baf-ac19-01a85ab56b39",
    "collapsed": false,
    "execution": {
     "iopub.execute_input": "2023-01-09T22:00:17.133617Z",
     "iopub.status.busy": "2023-01-09T22:00:17.133187Z",
     "iopub.status.idle": "2023-01-09T22:00:18.361747Z",
     "shell.execute_reply": "2023-01-09T22:00:18.360799Z"
    },
    "jupyter": {
     "outputs_hidden": false
    },
    "papermill": {
     "duration": 1.236969,
     "end_time": "2023-01-09T22:00:18.364103",
     "exception": false,
     "start_time": "2023-01-09T22:00:17.127134",
     "status": "completed"
    },
    "tags": []
   },
   "outputs": [],
   "source": [
    "img_files = glob.glob(\"/kaggle/input/bird-dataset/*/*/*.jpg\")\n",
    "random.shuffle(img_files)"
   ]
  },
  {
   "cell_type": "code",
   "execution_count": 5,
   "id": "c93e4c18",
   "metadata": {
    "_cell_guid": "d3dcc928-01de-4213-bb29-434f5220ee16",
    "_uuid": "8e27612b-0152-47db-8367-d7b6ea4c227a",
    "collapsed": false,
    "execution": {
     "iopub.execute_input": "2023-01-09T22:00:18.373009Z",
     "iopub.status.busy": "2023-01-09T22:00:18.372704Z",
     "iopub.status.idle": "2023-01-09T22:00:18.415590Z",
     "shell.execute_reply": "2023-01-09T22:00:18.414780Z"
    },
    "jupyter": {
     "outputs_hidden": false
    },
    "papermill": {
     "duration": 0.049414,
     "end_time": "2023-01-09T22:00:18.417453",
     "exception": false,
     "start_time": "2023-01-09T22:00:18.368039",
     "status": "completed"
    },
    "tags": []
   },
   "outputs": [],
   "source": [
    "raw_labels = {}\n",
    "bird_images = []\n",
    "for i in [\"1\", \"2\"]:\n",
    "    with open(\"/kaggle/input/bird-dataset/BIRD_v210_2.txt\") as f:\n",
    "        raw = f.read().strip()\n",
    "        last_name = None\n",
    "        for line in raw.split():\n",
    "            if line.endswith(\".jpg\"):\n",
    "                last_name = line\n",
    "                raw_labels[last_name] = []\n",
    "                bird_images.append(line)\n",
    "            splitted = line.split(\",\")\n",
    "            if splitted[-1] == \"b\":\n",
    "                raw_labels[last_name].append([\"0\"] + splitted[:-1]) # set category to 0 since only 1 object to detect"
   ]
  },
  {
   "cell_type": "code",
   "execution_count": 6,
   "id": "ae2bcbc4",
   "metadata": {
    "execution": {
     "iopub.execute_input": "2023-01-09T22:00:18.426242Z",
     "iopub.status.busy": "2023-01-09T22:00:18.425980Z",
     "iopub.status.idle": "2023-01-09T22:00:19.491552Z",
     "shell.execute_reply": "2023-01-09T22:00:19.490342Z"
    },
    "papermill": {
     "duration": 1.072763,
     "end_time": "2023-01-09T22:00:19.494167",
     "exception": false,
     "start_time": "2023-01-09T22:00:18.421404",
     "status": "completed"
    },
    "tags": []
   },
   "outputs": [],
   "source": [
    "stratify_label = {}\n",
    "for x in img_files:\n",
    "    label = x.split(\"/\")[4].split(\"_\")[2]\n",
    "    label += \"1\" if (x.split(\"/\")[-1] in bird_images) else \"0\"\n",
    "    stratify_label[x] = label"
   ]
  },
  {
   "cell_type": "code",
   "execution_count": 7,
   "id": "82bb3050",
   "metadata": {
    "execution": {
     "iopub.execute_input": "2023-01-09T22:00:19.505257Z",
     "iopub.status.busy": "2023-01-09T22:00:19.504948Z",
     "iopub.status.idle": "2023-01-09T22:00:19.527436Z",
     "shell.execute_reply": "2023-01-09T22:00:19.526596Z"
    },
    "papermill": {
     "duration": 0.029898,
     "end_time": "2023-01-09T22:00:19.529488",
     "exception": false,
     "start_time": "2023-01-09T22:00:19.499590",
     "status": "completed"
    },
    "tags": []
   },
   "outputs": [],
   "source": [
    "train_test_x, val_x = train_test_split(img_files, train_size=0.9, stratify=list(stratify_label.values()), random_state=0)\n",
    "new_stratify = [stratify_label[x] for x in train_test_x]\n",
    "train_x, test_x = train_test_split(train_test_x, train_size=(0.8)/(0.9), stratify=new_stratify, random_state=0)"
   ]
  },
  {
   "cell_type": "code",
   "execution_count": 8,
   "id": "3a5d9438",
   "metadata": {
    "execution": {
     "iopub.execute_input": "2023-01-09T22:00:19.538510Z",
     "iopub.status.busy": "2023-01-09T22:00:19.538213Z",
     "iopub.status.idle": "2023-01-09T22:00:19.957619Z",
     "shell.execute_reply": "2023-01-09T22:00:19.956255Z"
    },
    "papermill": {
     "duration": 0.426714,
     "end_time": "2023-01-09T22:00:19.960139",
     "exception": false,
     "start_time": "2023-01-09T22:00:19.533425",
     "status": "completed"
    },
    "tags": []
   },
   "outputs": [],
   "source": [
    "for x in train_x:\n",
    "    with open(\"/kaggle/temp/train/labels/\"+x.split(\"/\")[-1].split(\".\")[0]+\".txt\", \"w\") as file:\n",
    "        if x.split(\"/\")[-1] in raw_labels:\n",
    "            lines = [\" \".join(y) for y in raw_labels[x.split(\"/\")[-1]]]\n",
    "            file.write(\"\\n\".join(lines))"
   ]
  },
  {
   "cell_type": "code",
   "execution_count": 9,
   "id": "49eb9a04",
   "metadata": {
    "_cell_guid": "3cf9e78b-7baa-4407-86f1-eff52d5b278a",
    "_uuid": "6bcadd74-28fe-461c-a3e0-b0788cfbde95",
    "collapsed": false,
    "execution": {
     "iopub.execute_input": "2023-01-09T22:00:19.969321Z",
     "iopub.status.busy": "2023-01-09T22:00:19.969019Z",
     "iopub.status.idle": "2023-01-09T22:08:37.388167Z",
     "shell.execute_reply": "2023-01-09T22:08:37.386124Z"
    },
    "jupyter": {
     "outputs_hidden": false
    },
    "papermill": {
     "duration": 497.426175,
     "end_time": "2023-01-09T22:08:37.390307",
     "exception": false,
     "start_time": "2023-01-09T22:00:19.964132",
     "status": "completed"
    },
    "tags": []
   },
   "outputs": [
    {
     "name": "stderr",
     "output_type": "stream",
     "text": [
      "100%|██████████| 8639/8639 [06:36<00:00, 21.80it/s]\n",
      "100%|██████████| 1080/1080 [00:50<00:00, 21.29it/s]\n",
      "100%|██████████| 1080/1080 [00:50<00:00, 21.46it/s]\n"
     ]
    }
   ],
   "source": [
    "for x in tqdm(train_x):\n",
    "    shutil.copy2(x, \"/kaggle/temp/train/images\")\n",
    "for x in tqdm(val_x):\n",
    "    shutil.copy2(x, \"/kaggle/temp/val/images\")\n",
    "for x in tqdm(test_x):\n",
    "    shutil.copy2(x, \"/kaggle/temp/test/images\")"
   ]
  },
  {
   "cell_type": "code",
   "execution_count": 10,
   "id": "007d4815",
   "metadata": {
    "execution": {
     "iopub.execute_input": "2023-01-09T22:08:37.789233Z",
     "iopub.status.busy": "2023-01-09T22:08:37.788119Z",
     "iopub.status.idle": "2023-01-09T22:08:47.562084Z",
     "shell.execute_reply": "2023-01-09T22:08:47.560848Z"
    },
    "papermill": {
     "duration": 9.973942,
     "end_time": "2023-01-09T22:08:47.564744",
     "exception": false,
     "start_time": "2023-01-09T22:08:37.590802",
     "status": "completed"
    },
    "tags": []
   },
   "outputs": [
    {
     "name": "stdout",
     "output_type": "stream",
     "text": [
      "Cloning into 'yolov7'...\r\n",
      "remote: Enumerating objects: 1127, done.\u001b[K\r\n",
      "remote: Total 1127 (delta 0), reused 0 (delta 0), pack-reused 1127\u001b[K\r\n",
      "Receiving objects: 100% (1127/1127), 69.92 MiB | 10.85 MiB/s, done.\r\n",
      "Resolving deltas: 100% (528/528), done.\r\n"
     ]
    }
   ],
   "source": [
    "!cd /kaggle/working\n",
    "!git clone https://github.com/WongKinYiu/yolov7.git"
   ]
  },
  {
   "cell_type": "code",
   "execution_count": 11,
   "id": "39984fb9",
   "metadata": {
    "execution": {
     "iopub.execute_input": "2023-01-09T22:08:47.937778Z",
     "iopub.status.busy": "2023-01-09T22:08:47.937389Z",
     "iopub.status.idle": "2023-01-09T22:09:02.273531Z",
     "shell.execute_reply": "2023-01-09T22:09:02.272365Z"
    },
    "papermill": {
     "duration": 14.524665,
     "end_time": "2023-01-09T22:09:02.275813",
     "exception": false,
     "start_time": "2023-01-09T22:08:47.751148",
     "status": "completed"
    },
    "tags": []
   },
   "outputs": [
    {
     "name": "stdout",
     "output_type": "stream",
     "text": [
      "Requirement already satisfied: matplotlib>=3.2.2 in /opt/conda/lib/python3.7/site-packages (from -r /kaggle/working/yolov7/requirements.txt (line 4)) (3.5.3)\r\n",
      "Requirement already satisfied: numpy<1.24.0,>=1.18.5 in /opt/conda/lib/python3.7/site-packages (from -r /kaggle/working/yolov7/requirements.txt (line 5)) (1.21.6)\r\n",
      "Requirement already satisfied: opencv-python>=4.1.1 in /opt/conda/lib/python3.7/site-packages (from -r /kaggle/working/yolov7/requirements.txt (line 6)) (4.5.4.60)\r\n",
      "Requirement already satisfied: Pillow>=7.1.2 in /opt/conda/lib/python3.7/site-packages (from -r /kaggle/working/yolov7/requirements.txt (line 7)) (9.1.1)\r\n",
      "Requirement already satisfied: PyYAML>=5.3.1 in /opt/conda/lib/python3.7/site-packages (from -r /kaggle/working/yolov7/requirements.txt (line 8)) (6.0)\r\n",
      "Requirement already satisfied: requests>=2.23.0 in /opt/conda/lib/python3.7/site-packages (from -r /kaggle/working/yolov7/requirements.txt (line 9)) (2.28.1)\r\n",
      "Requirement already satisfied: scipy>=1.4.1 in /opt/conda/lib/python3.7/site-packages (from -r /kaggle/working/yolov7/requirements.txt (line 10)) (1.7.3)\r\n",
      "Requirement already satisfied: torch!=1.12.0,>=1.7.0 in /opt/conda/lib/python3.7/site-packages (from -r /kaggle/working/yolov7/requirements.txt (line 11)) (1.11.0)\r\n",
      "Requirement already satisfied: torchvision!=0.13.0,>=0.8.1 in /opt/conda/lib/python3.7/site-packages (from -r /kaggle/working/yolov7/requirements.txt (line 12)) (0.12.0)\r\n",
      "Requirement already satisfied: tqdm>=4.41.0 in /opt/conda/lib/python3.7/site-packages (from -r /kaggle/working/yolov7/requirements.txt (line 13)) (4.64.0)\r\n",
      "Requirement already satisfied: protobuf<4.21.3 in /opt/conda/lib/python3.7/site-packages (from -r /kaggle/working/yolov7/requirements.txt (line 14)) (3.19.4)\r\n",
      "Requirement already satisfied: tensorboard>=2.4.1 in /opt/conda/lib/python3.7/site-packages (from -r /kaggle/working/yolov7/requirements.txt (line 17)) (2.10.1)\r\n",
      "Requirement already satisfied: pandas>=1.1.4 in /opt/conda/lib/python3.7/site-packages (from -r /kaggle/working/yolov7/requirements.txt (line 21)) (1.3.5)\r\n",
      "Requirement already satisfied: seaborn>=0.11.0 in /opt/conda/lib/python3.7/site-packages (from -r /kaggle/working/yolov7/requirements.txt (line 22)) (0.11.2)\r\n",
      "Requirement already satisfied: ipython in /opt/conda/lib/python3.7/site-packages (from -r /kaggle/working/yolov7/requirements.txt (line 34)) (7.33.0)\r\n",
      "Requirement already satisfied: psutil in /opt/conda/lib/python3.7/site-packages (from -r /kaggle/working/yolov7/requirements.txt (line 35)) (5.9.1)\r\n",
      "Collecting thop\r\n",
      "  Downloading thop-0.1.1.post2209072238-py3-none-any.whl (15 kB)\r\n",
      "Requirement already satisfied: cycler>=0.10 in /opt/conda/lib/python3.7/site-packages (from matplotlib>=3.2.2->-r /kaggle/working/yolov7/requirements.txt (line 4)) (0.11.0)\r\n",
      "Requirement already satisfied: pyparsing>=2.2.1 in /opt/conda/lib/python3.7/site-packages (from matplotlib>=3.2.2->-r /kaggle/working/yolov7/requirements.txt (line 4)) (3.0.9)\r\n",
      "Requirement already satisfied: kiwisolver>=1.0.1 in /opt/conda/lib/python3.7/site-packages (from matplotlib>=3.2.2->-r /kaggle/working/yolov7/requirements.txt (line 4)) (1.4.3)\r\n",
      "Requirement already satisfied: packaging>=20.0 in /opt/conda/lib/python3.7/site-packages (from matplotlib>=3.2.2->-r /kaggle/working/yolov7/requirements.txt (line 4)) (21.3)\r\n",
      "Requirement already satisfied: fonttools>=4.22.0 in /opt/conda/lib/python3.7/site-packages (from matplotlib>=3.2.2->-r /kaggle/working/yolov7/requirements.txt (line 4)) (4.33.3)\r\n",
      "Requirement already satisfied: python-dateutil>=2.7 in /opt/conda/lib/python3.7/site-packages (from matplotlib>=3.2.2->-r /kaggle/working/yolov7/requirements.txt (line 4)) (2.8.2)\r\n",
      "Requirement already satisfied: charset-normalizer<3,>=2 in /opt/conda/lib/python3.7/site-packages (from requests>=2.23.0->-r /kaggle/working/yolov7/requirements.txt (line 9)) (2.1.0)\r\n",
      "Requirement already satisfied: idna<4,>=2.5 in /opt/conda/lib/python3.7/site-packages (from requests>=2.23.0->-r /kaggle/working/yolov7/requirements.txt (line 9)) (3.3)\r\n",
      "Requirement already satisfied: urllib3<1.27,>=1.21.1 in /opt/conda/lib/python3.7/site-packages (from requests>=2.23.0->-r /kaggle/working/yolov7/requirements.txt (line 9)) (1.26.12)\r\n",
      "Requirement already satisfied: certifi>=2017.4.17 in /opt/conda/lib/python3.7/site-packages (from requests>=2.23.0->-r /kaggle/working/yolov7/requirements.txt (line 9)) (2022.9.24)\r\n",
      "Requirement already satisfied: typing-extensions in /opt/conda/lib/python3.7/site-packages (from torch!=1.12.0,>=1.7.0->-r /kaggle/working/yolov7/requirements.txt (line 11)) (4.1.1)\r\n",
      "Requirement already satisfied: wheel>=0.26 in /opt/conda/lib/python3.7/site-packages (from tensorboard>=2.4.1->-r /kaggle/working/yolov7/requirements.txt (line 17)) (0.37.1)\r\n",
      "Requirement already satisfied: google-auth<3,>=1.6.3 in /opt/conda/lib/python3.7/site-packages (from tensorboard>=2.4.1->-r /kaggle/working/yolov7/requirements.txt (line 17)) (1.35.0)\r\n",
      "Requirement already satisfied: setuptools>=41.0.0 in /opt/conda/lib/python3.7/site-packages (from tensorboard>=2.4.1->-r /kaggle/working/yolov7/requirements.txt (line 17)) (59.8.0)\r\n",
      "Requirement already satisfied: werkzeug>=1.0.1 in /opt/conda/lib/python3.7/site-packages (from tensorboard>=2.4.1->-r /kaggle/working/yolov7/requirements.txt (line 17)) (2.2.2)\r\n",
      "Requirement already satisfied: markdown>=2.6.8 in /opt/conda/lib/python3.7/site-packages (from tensorboard>=2.4.1->-r /kaggle/working/yolov7/requirements.txt (line 17)) (3.3.7)\r\n",
      "Requirement already satisfied: tensorboard-plugin-wit>=1.6.0 in /opt/conda/lib/python3.7/site-packages (from tensorboard>=2.4.1->-r /kaggle/working/yolov7/requirements.txt (line 17)) (1.8.1)\r\n",
      "Requirement already satisfied: google-auth-oauthlib<0.5,>=0.4.1 in /opt/conda/lib/python3.7/site-packages (from tensorboard>=2.4.1->-r /kaggle/working/yolov7/requirements.txt (line 17)) (0.4.6)\r\n",
      "Requirement already satisfied: grpcio>=1.24.3 in /opt/conda/lib/python3.7/site-packages (from tensorboard>=2.4.1->-r /kaggle/working/yolov7/requirements.txt (line 17)) (1.43.0)\r\n",
      "Requirement already satisfied: tensorboard-data-server<0.7.0,>=0.6.0 in /opt/conda/lib/python3.7/site-packages (from tensorboard>=2.4.1->-r /kaggle/working/yolov7/requirements.txt (line 17)) (0.6.1)\r\n",
      "Requirement already satisfied: absl-py>=0.4 in /opt/conda/lib/python3.7/site-packages (from tensorboard>=2.4.1->-r /kaggle/working/yolov7/requirements.txt (line 17)) (0.15.0)\r\n",
      "Requirement already satisfied: pytz>=2017.3 in /opt/conda/lib/python3.7/site-packages (from pandas>=1.1.4->-r /kaggle/working/yolov7/requirements.txt (line 21)) (2022.1)\r\n",
      "Requirement already satisfied: jedi>=0.16 in /opt/conda/lib/python3.7/site-packages (from ipython->-r /kaggle/working/yolov7/requirements.txt (line 34)) (0.18.1)\r\n",
      "Requirement already satisfied: decorator in /opt/conda/lib/python3.7/site-packages (from ipython->-r /kaggle/working/yolov7/requirements.txt (line 34)) (5.1.1)\r\n",
      "Requirement already satisfied: pexpect>4.3 in /opt/conda/lib/python3.7/site-packages (from ipython->-r /kaggle/working/yolov7/requirements.txt (line 34)) (4.8.0)\r\n",
      "Requirement already satisfied: pickleshare in /opt/conda/lib/python3.7/site-packages (from ipython->-r /kaggle/working/yolov7/requirements.txt (line 34)) (0.7.5)\r\n",
      "Requirement already satisfied: prompt-toolkit!=3.0.0,!=3.0.1,<3.1.0,>=2.0.0 in /opt/conda/lib/python3.7/site-packages (from ipython->-r /kaggle/working/yolov7/requirements.txt (line 34)) (3.0.30)\r\n",
      "Requirement already satisfied: matplotlib-inline in /opt/conda/lib/python3.7/site-packages (from ipython->-r /kaggle/working/yolov7/requirements.txt (line 34)) (0.1.3)\r\n",
      "Requirement already satisfied: pygments in /opt/conda/lib/python3.7/site-packages (from ipython->-r /kaggle/working/yolov7/requirements.txt (line 34)) (2.12.0)\r\n",
      "Requirement already satisfied: traitlets>=4.2 in /opt/conda/lib/python3.7/site-packages (from ipython->-r /kaggle/working/yolov7/requirements.txt (line 34)) (5.3.0)\r\n",
      "Requirement already satisfied: backcall in /opt/conda/lib/python3.7/site-packages (from ipython->-r /kaggle/working/yolov7/requirements.txt (line 34)) (0.2.0)\r\n",
      "Requirement already satisfied: six in /opt/conda/lib/python3.7/site-packages (from absl-py>=0.4->tensorboard>=2.4.1->-r /kaggle/working/yolov7/requirements.txt (line 17)) (1.15.0)\r\n",
      "Requirement already satisfied: cachetools<5.0,>=2.0.0 in /opt/conda/lib/python3.7/site-packages (from google-auth<3,>=1.6.3->tensorboard>=2.4.1->-r /kaggle/working/yolov7/requirements.txt (line 17)) (4.2.4)\r\n",
      "Requirement already satisfied: pyasn1-modules>=0.2.1 in /opt/conda/lib/python3.7/site-packages (from google-auth<3,>=1.6.3->tensorboard>=2.4.1->-r /kaggle/working/yolov7/requirements.txt (line 17)) (0.2.7)\r\n",
      "Requirement already satisfied: rsa<5,>=3.1.4 in /opt/conda/lib/python3.7/site-packages (from google-auth<3,>=1.6.3->tensorboard>=2.4.1->-r /kaggle/working/yolov7/requirements.txt (line 17)) (4.8)\r\n",
      "Requirement already satisfied: requests-oauthlib>=0.7.0 in /opt/conda/lib/python3.7/site-packages (from google-auth-oauthlib<0.5,>=0.4.1->tensorboard>=2.4.1->-r /kaggle/working/yolov7/requirements.txt (line 17)) (1.3.1)\r\n",
      "Requirement already satisfied: parso<0.9.0,>=0.8.0 in /opt/conda/lib/python3.7/site-packages (from jedi>=0.16->ipython->-r /kaggle/working/yolov7/requirements.txt (line 34)) (0.8.3)\r\n",
      "Requirement already satisfied: importlib-metadata>=4.4 in /opt/conda/lib/python3.7/site-packages (from markdown>=2.6.8->tensorboard>=2.4.1->-r /kaggle/working/yolov7/requirements.txt (line 17)) (4.13.0)\r\n",
      "Requirement already satisfied: ptyprocess>=0.5 in /opt/conda/lib/python3.7/site-packages (from pexpect>4.3->ipython->-r /kaggle/working/yolov7/requirements.txt (line 34)) (0.7.0)\r\n",
      "Requirement already satisfied: wcwidth in /opt/conda/lib/python3.7/site-packages (from prompt-toolkit!=3.0.0,!=3.0.1,<3.1.0,>=2.0.0->ipython->-r /kaggle/working/yolov7/requirements.txt (line 34)) (0.2.5)\r\n",
      "Requirement already satisfied: MarkupSafe>=2.1.1 in /opt/conda/lib/python3.7/site-packages (from werkzeug>=1.0.1->tensorboard>=2.4.1->-r /kaggle/working/yolov7/requirements.txt (line 17)) (2.1.1)\r\n",
      "Requirement already satisfied: zipp>=0.5 in /opt/conda/lib/python3.7/site-packages (from importlib-metadata>=4.4->markdown>=2.6.8->tensorboard>=2.4.1->-r /kaggle/working/yolov7/requirements.txt (line 17)) (3.8.0)\r\n",
      "Requirement already satisfied: pyasn1<0.5.0,>=0.4.6 in /opt/conda/lib/python3.7/site-packages (from pyasn1-modules>=0.2.1->google-auth<3,>=1.6.3->tensorboard>=2.4.1->-r /kaggle/working/yolov7/requirements.txt (line 17)) (0.4.8)\r\n",
      "Requirement already satisfied: oauthlib>=3.0.0 in /opt/conda/lib/python3.7/site-packages (from requests-oauthlib>=0.7.0->google-auth-oauthlib<0.5,>=0.4.1->tensorboard>=2.4.1->-r /kaggle/working/yolov7/requirements.txt (line 17)) (3.2.0)\r\n",
      "Installing collected packages: thop\r\n",
      "Successfully installed thop-0.1.1.post2209072238\r\n",
      "\u001b[33mWARNING: Running pip as the 'root' user can result in broken permissions and conflicting behaviour with the system package manager. It is recommended to use a virtual environment instead: https://pip.pypa.io/warnings/venv\u001b[0m\u001b[33m\r\n",
      "\r\n",
      "\r\n",
      "\r\n",
      "htop is already the newest version (2.2.0-2build1).\r\n",
      "zip is already the newest version (3.0-11build1).\r\n",
      "libgl1-mesa-glx is already the newest version (21.2.6-0ubuntu0.1~20.04.2).\r\n",
      "screen is already the newest version (4.8.0-1ubuntu0.1).\r\n",
      "0 upgraded, 0 newly installed, 0 to remove and 93 not upgraded.\r\n"
     ]
    }
   ],
   "source": [
    "!pip install -r /kaggle/working/yolov7/requirements.txt\n",
    "!sudo apt install -y zip htop screen libgl1-mesa-glx"
   ]
  },
  {
   "cell_type": "code",
   "execution_count": 12,
   "id": "d3d3f74f",
   "metadata": {
    "execution": {
     "iopub.execute_input": "2023-01-09T22:09:02.692379Z",
     "iopub.status.busy": "2023-01-09T22:09:02.691999Z",
     "iopub.status.idle": "2023-01-09T22:09:02.698357Z",
     "shell.execute_reply": "2023-01-09T22:09:02.697351Z"
    },
    "papermill": {
     "duration": 0.237993,
     "end_time": "2023-01-09T22:09:02.700300",
     "exception": false,
     "start_time": "2023-01-09T22:09:02.462307",
     "status": "completed"
    },
    "tags": []
   },
   "outputs": [],
   "source": [
    "f = open(\"/kaggle/working/yolov7/data/custom.yaml\", \"w\")\n",
    "f.write(\"\"\"train: /kaggle/temp/train/\n",
    "test: /kaggle/temp/test/\n",
    "val: /kaggle/temp/val/\n",
    "\n",
    "nc: 1\n",
    "\n",
    "names: ['bird']\n",
    "\"\"\")\n",
    "f.close()"
   ]
  },
  {
   "cell_type": "code",
   "execution_count": 13,
   "id": "e1f47ed1",
   "metadata": {
    "execution": {
     "iopub.execute_input": "2023-01-09T22:09:03.072680Z",
     "iopub.status.busy": "2023-01-09T22:09:03.072314Z",
     "iopub.status.idle": "2023-01-09T22:09:32.621554Z",
     "shell.execute_reply": "2023-01-09T22:09:32.620311Z"
    },
    "papermill": {
     "duration": 29.739958,
     "end_time": "2023-01-09T22:09:32.624052",
     "exception": false,
     "start_time": "2023-01-09T22:09:02.884094",
     "status": "completed"
    },
    "tags": []
   },
   "outputs": [
    {
     "name": "stdout",
     "output_type": "stream",
     "text": [
      "Namespace(agnostic_nms=False, augment=False, classes=None, conf_thres=0.25, device='', exist_ok=False, img_size=640, iou_thres=0.45, name='exp', no_trace=False, nosave=False, project='runs/detect', save_conf=False, save_txt=False, source='inference/images/horses.jpg', update=False, view_img=False, weights=['yolov7.pt'])\r\n",
      "Downloading https://github.com/WongKinYiu/yolov7/releases/download/v0.1/yolov7.pt to yolov7.pt...\r\n",
      "100%|██████████████████████████████████████| 72.1M/72.1M [00:00<00:00, 81.2MB/s]\r\n",
      "\r\n",
      "Fusing layers... \r\n",
      "RepConv.fuse_repvgg_block\r\n",
      "RepConv.fuse_repvgg_block\r\n",
      "RepConv.fuse_repvgg_block\r\n",
      " Convert model to Traced-model... \r\n",
      " traced_script_module saved! \r\n",
      " model is traced! \r\n",
      "\r\n",
      "/opt/conda/lib/python3.7/site-packages/torch/functional.py:568: UserWarning: torch.meshgrid: in an upcoming release, it will be required to pass the indexing argument. (Triggered internally at  /usr/local/src/pytorch/aten/src/ATen/native/TensorShape.cpp:2227.)\r\n",
      "  return _VF.meshgrid(tensors, **kwargs)  # type: ignore[attr-defined]\r\n",
      "5 horses, Done. (21.9ms) Inference, (26.7ms) NMS\r\n",
      " The image with the result is saved in: runs/detect/exp/horses.jpg\r\n",
      "Done. (0.185s)\r\n"
     ]
    }
   ],
   "source": [
    "os.chdir(\"/kaggle/working/yolov7\")\n",
    "!python detect.py --weights yolov7.pt --source inference/images/horses.jpg --img 640"
   ]
  },
  {
   "cell_type": "code",
   "execution_count": 14,
   "id": "67178fd9",
   "metadata": {
    "execution": {
     "iopub.execute_input": "2023-01-09T22:09:32.997636Z",
     "iopub.status.busy": "2023-01-09T22:09:32.997272Z",
     "iopub.status.idle": "2023-01-09T22:09:40.958296Z",
     "shell.execute_reply": "2023-01-09T22:09:40.956880Z"
    },
    "papermill": {
     "duration": 8.149456,
     "end_time": "2023-01-09T22:09:40.961313",
     "exception": false,
     "start_time": "2023-01-09T22:09:32.811857",
     "status": "completed"
    },
    "tags": []
   },
   "outputs": [
    {
     "name": "stderr",
     "output_type": "stream",
     "text": [
      "\u001b[34m\u001b[1mwandb\u001b[0m: W&B API key is configured. Use \u001b[1m`wandb login --relogin`\u001b[0m to force relogin\n",
      "\u001b[34m\u001b[1mwandb\u001b[0m: \u001b[33mWARNING\u001b[0m If you're specifying your api key in code, ensure this code is not shared publicly.\n",
      "\u001b[34m\u001b[1mwandb\u001b[0m: \u001b[33mWARNING\u001b[0m Consider setting the WANDB_API_KEY environment variable, or running `wandb login` from the command line.\n",
      "\u001b[34m\u001b[1mwandb\u001b[0m: Appending key for api.wandb.ai to your netrc file: /root/.netrc\n",
      "\u001b[34m\u001b[1mwandb\u001b[0m: Currently logged in as: \u001b[33munkownhihi\u001b[0m. Use \u001b[1m`wandb login --relogin`\u001b[0m to force relogin\n"
     ]
    },
    {
     "data": {
      "text/html": [
       "wandb version 0.13.7 is available!  To upgrade, please run:\n",
       " $ pip install wandb --upgrade"
      ],
      "text/plain": [
       "<IPython.core.display.HTML object>"
      ]
     },
     "metadata": {},
     "output_type": "display_data"
    },
    {
     "data": {
      "text/html": [
       "Tracking run with wandb version 0.12.21"
      ],
      "text/plain": [
       "<IPython.core.display.HTML object>"
      ]
     },
     "metadata": {},
     "output_type": "display_data"
    },
    {
     "data": {
      "text/html": [
       "Run data is saved locally in <code>/kaggle/working/yolov7/wandb/run-20230109_220934-14ael35t</code>"
      ],
      "text/plain": [
       "<IPython.core.display.HTML object>"
      ]
     },
     "metadata": {},
     "output_type": "display_data"
    },
    {
     "data": {
      "text/html": [
       "Syncing run <strong><a href=\"https://wandb.ai/unkownhihi/yolov7-bird/runs/14ael35t\" target=\"_blank\">run1</a></strong> to <a href=\"https://wandb.ai/unkownhihi/yolov7-bird\" target=\"_blank\">Weights & Biases</a> (<a href=\"https://wandb.me/run\" target=\"_blank\">docs</a>)<br/>"
      ],
      "text/plain": [
       "<IPython.core.display.HTML object>"
      ]
     },
     "metadata": {},
     "output_type": "display_data"
    },
    {
     "data": {
      "text/html": [
       "<button onClick=\"this.nextSibling.style.display='block';this.style.display='none';\">Display W&B run</button><iframe src=\"https://wandb.ai/unkownhihi/yolov7-bird/runs/14ael35t?jupyter=true\" style=\"border:none;width:100%;height:420px;display:none;\"></iframe>"
      ],
      "text/plain": [
       "<wandb.sdk.wandb_run.Run at 0x7f498dba19d0>"
      ]
     },
     "execution_count": 14,
     "metadata": {},
     "output_type": "execute_result"
    }
   ],
   "source": [
    "import wandb\n",
    "from kaggle_secrets import UserSecretsClient\n",
    "user_secrets = UserSecretsClient()\n",
    "\n",
    "wandb.login(key=user_secrets.get_secret(\"wandb\"))\n",
    "wandb.init(project=\"yolov7-bird\",name=f\"run1\")"
   ]
  },
  {
   "cell_type": "code",
   "execution_count": 15,
   "id": "f3657326",
   "metadata": {
    "execution": {
     "iopub.execute_input": "2023-01-09T22:09:41.576224Z",
     "iopub.status.busy": "2023-01-09T22:09:41.575620Z",
     "iopub.status.idle": "2023-01-09T22:09:47.883517Z",
     "shell.execute_reply": "2023-01-09T22:09:47.882346Z"
    },
    "papermill": {
     "duration": 6.609755,
     "end_time": "2023-01-09T22:09:47.886725",
     "exception": false,
     "start_time": "2023-01-09T22:09:41.276970",
     "status": "completed"
    },
    "tags": []
   },
   "outputs": [
    {
     "name": "stdout",
     "output_type": "stream",
     "text": [
      "usage: train.py [-h] [--weights WEIGHTS] [--cfg CFG] [--data DATA] [--hyp HYP]\r\n",
      "                [--epochs EPOCHS] [--batch-size BATCH_SIZE]\r\n",
      "                [--img-size IMG_SIZE [IMG_SIZE ...]] [--rect]\r\n",
      "                [--resume [RESUME]] [--nosave] [--notest] [--noautoanchor]\r\n",
      "                [--evolve] [--bucket BUCKET] [--cache-images]\r\n",
      "                [--image-weights] [--device DEVICE] [--multi-scale]\r\n",
      "                [--single-cls] [--adam] [--sync-bn] [--local_rank LOCAL_RANK]\r\n",
      "                [--workers WORKERS] [--project PROJECT] [--entity ENTITY]\r\n",
      "                [--name NAME] [--exist-ok] [--quad] [--linear-lr]\r\n",
      "                [--label-smoothing LABEL_SMOOTHING] [--upload_dataset]\r\n",
      "                [--bbox_interval BBOX_INTERVAL] [--save_period SAVE_PERIOD]\r\n",
      "                [--artifact_alias ARTIFACT_ALIAS]\r\n",
      "                [--freeze FREEZE [FREEZE ...]] [--v5-metric]\r\n",
      "train.py: error: unrecognized arguments: cfg/training/yolov7.yaml\r\n"
     ]
    }
   ],
   "source": [
    "!python3 train.py --batch 64  --epochs 50 --weights yolov7.pt --data \"/kaggle/working/yolov7/data/custom.yaml\"--cfg cfg/training/yolov7.yaml --name 'run1' --project 'yolov7-bird'"
   ]
  }
 ],
 "metadata": {
  "kernelspec": {
   "display_name": "Python 3",
   "language": "python",
   "name": "python3"
  },
  "language_info": {
   "codemirror_mode": {
    "name": "ipython",
    "version": 3
   },
   "file_extension": ".py",
   "mimetype": "text/x-python",
   "name": "python",
   "nbconvert_exporter": "python",
   "pygments_lexer": "ipython3",
   "version": "3.7.12"
  },
  "papermill": {
   "default_parameters": {},
   "duration": 582.685967,
   "end_time": "2023-01-09T22:09:50.795505",
   "environment_variables": {},
   "exception": null,
   "input_path": "__notebook__.ipynb",
   "output_path": "__notebook__.ipynb",
   "parameters": {},
   "start_time": "2023-01-09T22:00:08.109538",
   "version": "2.3.4"
  },
  "widgets": {
   "application/vnd.jupyter.widget-state+json": {
    "state": {
     "14843641574f491aa78b2e37226a2424": {
      "model_module": "@jupyter-widgets/controls",
      "model_module_version": "1.5.0",
      "model_name": "LabelModel",
      "state": {
       "_dom_classes": [],
       "_model_module": "@jupyter-widgets/controls",
       "_model_module_version": "1.5.0",
       "_model_name": "LabelModel",
       "_view_count": null,
       "_view_module": "@jupyter-widgets/controls",
       "_view_module_version": "1.5.0",
       "_view_name": "LabelView",
       "description": "",
       "description_tooltip": null,
       "layout": "IPY_MODEL_c7384c60f0f44392959b877bac7728c2",
       "placeholder": "​",
       "style": "IPY_MODEL_3bea43f053cf44b9b39f01e7396c6c9f",
       "value": ""
      }
     },
     "1fa934a47bf847989bdebaad26ec3aec": {
      "model_module": "@jupyter-widgets/base",
      "model_module_version": "1.2.0",
      "model_name": "LayoutModel",
      "state": {
       "_model_module": "@jupyter-widgets/base",
       "_model_module_version": "1.2.0",
       "_model_name": "LayoutModel",
       "_view_count": null,
       "_view_module": "@jupyter-widgets/base",
       "_view_module_version": "1.2.0",
       "_view_name": "LayoutView",
       "align_content": null,
       "align_items": null,
       "align_self": null,
       "border": null,
       "bottom": null,
       "display": null,
       "flex": null,
       "flex_flow": null,
       "grid_area": null,
       "grid_auto_columns": null,
       "grid_auto_flow": null,
       "grid_auto_rows": null,
       "grid_column": null,
       "grid_gap": null,
       "grid_row": null,
       "grid_template_areas": null,
       "grid_template_columns": null,
       "grid_template_rows": null,
       "height": null,
       "justify_content": null,
       "justify_items": null,
       "left": null,
       "margin": null,
       "max_height": null,
       "max_width": null,
       "min_height": null,
       "min_width": null,
       "object_fit": null,
       "object_position": null,
       "order": null,
       "overflow": null,
       "overflow_x": null,
       "overflow_y": null,
       "padding": null,
       "right": null,
       "top": null,
       "visibility": null,
       "width": null
      }
     },
     "207e249e7a1b4d288eca4fcc82196e60": {
      "model_module": "@jupyter-widgets/base",
      "model_module_version": "1.2.0",
      "model_name": "LayoutModel",
      "state": {
       "_model_module": "@jupyter-widgets/base",
       "_model_module_version": "1.2.0",
       "_model_name": "LayoutModel",
       "_view_count": null,
       "_view_module": "@jupyter-widgets/base",
       "_view_module_version": "1.2.0",
       "_view_name": "LayoutView",
       "align_content": null,
       "align_items": null,
       "align_self": null,
       "border": null,
       "bottom": null,
       "display": null,
       "flex": null,
       "flex_flow": null,
       "grid_area": null,
       "grid_auto_columns": null,
       "grid_auto_flow": null,
       "grid_auto_rows": null,
       "grid_column": null,
       "grid_gap": null,
       "grid_row": null,
       "grid_template_areas": null,
       "grid_template_columns": null,
       "grid_template_rows": null,
       "height": null,
       "justify_content": null,
       "justify_items": null,
       "left": null,
       "margin": null,
       "max_height": null,
       "max_width": null,
       "min_height": null,
       "min_width": null,
       "object_fit": null,
       "object_position": null,
       "order": null,
       "overflow": null,
       "overflow_x": null,
       "overflow_y": null,
       "padding": null,
       "right": null,
       "top": null,
       "visibility": null,
       "width": null
      }
     },
     "2f0bfda620054cfaba5aec8c15a954bd": {
      "model_module": "@jupyter-widgets/controls",
      "model_module_version": "1.5.0",
      "model_name": "FloatProgressModel",
      "state": {
       "_dom_classes": [],
       "_model_module": "@jupyter-widgets/controls",
       "_model_module_version": "1.5.0",
       "_model_name": "FloatProgressModel",
       "_view_count": null,
       "_view_module": "@jupyter-widgets/controls",
       "_view_module_version": "1.5.0",
       "_view_name": "ProgressView",
       "bar_style": "",
       "description": "",
       "description_tooltip": null,
       "layout": "IPY_MODEL_7ad4b8175d8f4cb88633e8dd9aa1a1cb",
       "max": 1.0,
       "min": 0.0,
       "orientation": "horizontal",
       "style": "IPY_MODEL_eadba6fd99d647f7a655c6156b3bed00",
       "value": 0.0
      }
     },
     "3055086b5576414bb51a016ea702ef2d": {
      "model_module": "@jupyter-widgets/base",
      "model_module_version": "1.2.0",
      "model_name": "LayoutModel",
      "state": {
       "_model_module": "@jupyter-widgets/base",
       "_model_module_version": "1.2.0",
       "_model_name": "LayoutModel",
       "_view_count": null,
       "_view_module": "@jupyter-widgets/base",
       "_view_module_version": "1.2.0",
       "_view_name": "LayoutView",
       "align_content": null,
       "align_items": null,
       "align_self": null,
       "border": null,
       "bottom": null,
       "display": null,
       "flex": null,
       "flex_flow": null,
       "grid_area": null,
       "grid_auto_columns": null,
       "grid_auto_flow": null,
       "grid_auto_rows": null,
       "grid_column": null,
       "grid_gap": null,
       "grid_row": null,
       "grid_template_areas": null,
       "grid_template_columns": null,
       "grid_template_rows": null,
       "height": null,
       "justify_content": null,
       "justify_items": null,
       "left": null,
       "margin": null,
       "max_height": null,
       "max_width": null,
       "min_height": null,
       "min_width": null,
       "object_fit": null,
       "object_position": null,
       "order": null,
       "overflow": null,
       "overflow_x": null,
       "overflow_y": null,
       "padding": null,
       "right": null,
       "top": null,
       "visibility": null,
       "width": null
      }
     },
     "3bea43f053cf44b9b39f01e7396c6c9f": {
      "model_module": "@jupyter-widgets/controls",
      "model_module_version": "1.5.0",
      "model_name": "DescriptionStyleModel",
      "state": {
       "_model_module": "@jupyter-widgets/controls",
       "_model_module_version": "1.5.0",
       "_model_name": "DescriptionStyleModel",
       "_view_count": null,
       "_view_module": "@jupyter-widgets/base",
       "_view_module_version": "1.2.0",
       "_view_name": "StyleView",
       "description_width": ""
      }
     },
     "4316b530e65945c18c7d4fac202f5258": {
      "model_module": "@jupyter-widgets/controls",
      "model_module_version": "1.5.0",
      "model_name": "VBoxModel",
      "state": {
       "_dom_classes": [],
       "_model_module": "@jupyter-widgets/controls",
       "_model_module_version": "1.5.0",
       "_model_name": "VBoxModel",
       "_view_count": null,
       "_view_module": "@jupyter-widgets/controls",
       "_view_module_version": "1.5.0",
       "_view_name": "VBoxView",
       "box_style": "",
       "children": [
        "IPY_MODEL_c83bb5e1a9de4768baf5ee59545ea0e2",
        "IPY_MODEL_2f0bfda620054cfaba5aec8c15a954bd"
       ],
       "layout": "IPY_MODEL_3055086b5576414bb51a016ea702ef2d"
      }
     },
     "65bdfd89c98b4b448a9e68145a97fe95": {
      "model_module": "@jupyter-widgets/controls",
      "model_module_version": "1.5.0",
      "model_name": "ProgressStyleModel",
      "state": {
       "_model_module": "@jupyter-widgets/controls",
       "_model_module_version": "1.5.0",
       "_model_name": "ProgressStyleModel",
       "_view_count": null,
       "_view_module": "@jupyter-widgets/base",
       "_view_module_version": "1.2.0",
       "_view_name": "StyleView",
       "bar_color": null,
       "description_width": ""
      }
     },
     "7ad4b8175d8f4cb88633e8dd9aa1a1cb": {
      "model_module": "@jupyter-widgets/base",
      "model_module_version": "1.2.0",
      "model_name": "LayoutModel",
      "state": {
       "_model_module": "@jupyter-widgets/base",
       "_model_module_version": "1.2.0",
       "_model_name": "LayoutModel",
       "_view_count": null,
       "_view_module": "@jupyter-widgets/base",
       "_view_module_version": "1.2.0",
       "_view_name": "LayoutView",
       "align_content": null,
       "align_items": null,
       "align_self": null,
       "border": null,
       "bottom": null,
       "display": null,
       "flex": null,
       "flex_flow": null,
       "grid_area": null,
       "grid_auto_columns": null,
       "grid_auto_flow": null,
       "grid_auto_rows": null,
       "grid_column": null,
       "grid_gap": null,
       "grid_row": null,
       "grid_template_areas": null,
       "grid_template_columns": null,
       "grid_template_rows": null,
       "height": null,
       "justify_content": null,
       "justify_items": null,
       "left": null,
       "margin": null,
       "max_height": null,
       "max_width": null,
       "min_height": null,
       "min_width": null,
       "object_fit": null,
       "object_position": null,
       "order": null,
       "overflow": null,
       "overflow_x": null,
       "overflow_y": null,
       "padding": null,
       "right": null,
       "top": null,
       "visibility": null,
       "width": null
      }
     },
     "8d3820d14eca4c2dbe53d01d78677158": {
      "model_module": "@jupyter-widgets/controls",
      "model_module_version": "1.5.0",
      "model_name": "DescriptionStyleModel",
      "state": {
       "_model_module": "@jupyter-widgets/controls",
       "_model_module_version": "1.5.0",
       "_model_name": "DescriptionStyleModel",
       "_view_count": null,
       "_view_module": "@jupyter-widgets/base",
       "_view_module_version": "1.2.0",
       "_view_name": "StyleView",
       "description_width": ""
      }
     },
     "9bd794ff7acc4b33adf46c69ecf51b85": {
      "model_module": "@jupyter-widgets/controls",
      "model_module_version": "1.5.0",
      "model_name": "VBoxModel",
      "state": {
       "_dom_classes": [],
       "_model_module": "@jupyter-widgets/controls",
       "_model_module_version": "1.5.0",
       "_model_name": "VBoxModel",
       "_view_count": null,
       "_view_module": "@jupyter-widgets/controls",
       "_view_module_version": "1.5.0",
       "_view_name": "VBoxView",
       "box_style": "",
       "children": [
        "IPY_MODEL_14843641574f491aa78b2e37226a2424",
        "IPY_MODEL_be1db0581d6f4509bbad4e9d9249082b"
       ],
       "layout": "IPY_MODEL_207e249e7a1b4d288eca4fcc82196e60"
      }
     },
     "be1db0581d6f4509bbad4e9d9249082b": {
      "model_module": "@jupyter-widgets/controls",
      "model_module_version": "1.5.0",
      "model_name": "FloatProgressModel",
      "state": {
       "_dom_classes": [],
       "_model_module": "@jupyter-widgets/controls",
       "_model_module_version": "1.5.0",
       "_model_name": "FloatProgressModel",
       "_view_count": null,
       "_view_module": "@jupyter-widgets/controls",
       "_view_module_version": "1.5.0",
       "_view_name": "ProgressView",
       "bar_style": "",
       "description": "",
       "description_tooltip": null,
       "layout": "IPY_MODEL_1fa934a47bf847989bdebaad26ec3aec",
       "max": 1.0,
       "min": 0.0,
       "orientation": "horizontal",
       "style": "IPY_MODEL_65bdfd89c98b4b448a9e68145a97fe95",
       "value": 0.0
      }
     },
     "bf411ba34e044769bf6c9e56df9000c0": {
      "model_module": "@jupyter-widgets/base",
      "model_module_version": "1.2.0",
      "model_name": "LayoutModel",
      "state": {
       "_model_module": "@jupyter-widgets/base",
       "_model_module_version": "1.2.0",
       "_model_name": "LayoutModel",
       "_view_count": null,
       "_view_module": "@jupyter-widgets/base",
       "_view_module_version": "1.2.0",
       "_view_name": "LayoutView",
       "align_content": null,
       "align_items": null,
       "align_self": null,
       "border": null,
       "bottom": null,
       "display": null,
       "flex": null,
       "flex_flow": null,
       "grid_area": null,
       "grid_auto_columns": null,
       "grid_auto_flow": null,
       "grid_auto_rows": null,
       "grid_column": null,
       "grid_gap": null,
       "grid_row": null,
       "grid_template_areas": null,
       "grid_template_columns": null,
       "grid_template_rows": null,
       "height": null,
       "justify_content": null,
       "justify_items": null,
       "left": null,
       "margin": null,
       "max_height": null,
       "max_width": null,
       "min_height": null,
       "min_width": null,
       "object_fit": null,
       "object_position": null,
       "order": null,
       "overflow": null,
       "overflow_x": null,
       "overflow_y": null,
       "padding": null,
       "right": null,
       "top": null,
       "visibility": null,
       "width": null
      }
     },
     "c7384c60f0f44392959b877bac7728c2": {
      "model_module": "@jupyter-widgets/base",
      "model_module_version": "1.2.0",
      "model_name": "LayoutModel",
      "state": {
       "_model_module": "@jupyter-widgets/base",
       "_model_module_version": "1.2.0",
       "_model_name": "LayoutModel",
       "_view_count": null,
       "_view_module": "@jupyter-widgets/base",
       "_view_module_version": "1.2.0",
       "_view_name": "LayoutView",
       "align_content": null,
       "align_items": null,
       "align_self": null,
       "border": null,
       "bottom": null,
       "display": null,
       "flex": null,
       "flex_flow": null,
       "grid_area": null,
       "grid_auto_columns": null,
       "grid_auto_flow": null,
       "grid_auto_rows": null,
       "grid_column": null,
       "grid_gap": null,
       "grid_row": null,
       "grid_template_areas": null,
       "grid_template_columns": null,
       "grid_template_rows": null,
       "height": null,
       "justify_content": null,
       "justify_items": null,
       "left": null,
       "margin": null,
       "max_height": null,
       "max_width": null,
       "min_height": null,
       "min_width": null,
       "object_fit": null,
       "object_position": null,
       "order": null,
       "overflow": null,
       "overflow_x": null,
       "overflow_y": null,
       "padding": null,
       "right": null,
       "top": null,
       "visibility": null,
       "width": null
      }
     },
     "c83bb5e1a9de4768baf5ee59545ea0e2": {
      "model_module": "@jupyter-widgets/controls",
      "model_module_version": "1.5.0",
      "model_name": "LabelModel",
      "state": {
       "_dom_classes": [],
       "_model_module": "@jupyter-widgets/controls",
       "_model_module_version": "1.5.0",
       "_model_name": "LabelModel",
       "_view_count": null,
       "_view_module": "@jupyter-widgets/controls",
       "_view_module_version": "1.5.0",
       "_view_name": "LabelView",
       "description": "",
       "description_tooltip": null,
       "layout": "IPY_MODEL_bf411ba34e044769bf6c9e56df9000c0",
       "placeholder": "​",
       "style": "IPY_MODEL_8d3820d14eca4c2dbe53d01d78677158",
       "value": ""
      }
     },
     "eadba6fd99d647f7a655c6156b3bed00": {
      "model_module": "@jupyter-widgets/controls",
      "model_module_version": "1.5.0",
      "model_name": "ProgressStyleModel",
      "state": {
       "_model_module": "@jupyter-widgets/controls",
       "_model_module_version": "1.5.0",
       "_model_name": "ProgressStyleModel",
       "_view_count": null,
       "_view_module": "@jupyter-widgets/base",
       "_view_module_version": "1.2.0",
       "_view_name": "StyleView",
       "bar_color": null,
       "description_width": ""
      }
     }
    },
    "version_major": 2,
    "version_minor": 0
   }
  }
 },
 "nbformat": 4,
 "nbformat_minor": 5
}
